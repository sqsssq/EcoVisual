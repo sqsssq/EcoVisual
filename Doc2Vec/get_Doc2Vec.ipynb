{
 "cells": [
  {
   "cell_type": "code",
   "execution_count": 1,
   "metadata": {},
   "outputs": [],
   "source": [
    "import json\n",
    "import csv\n",
    "import pandas as pd\n",
    "import os\n",
    "import numpy as np\n",
    "import math\n",
    "import matplotlib.pyplot as plt\n",
    "from sklearn import preprocessing\n",
    "\n",
    "\n",
    "def read_json(add):\n",
    "    with open(add, 'rt', encoding=\"utf-8\") as f:\n",
    "        cr = json.load(f)\n",
    "    f.close()\n",
    "    return cr\n",
    "\n",
    "\n",
    "def read_csv(add):\n",
    "    cr = pd.read_csv(add, engine='c')\n",
    "    return cr\n",
    "\n",
    "\n",
    "def write_json(add, arr):\n",
    "    with open(add, 'a', encoding='utf-8', newline='') as f:\n",
    "        json.dump(arr, f)\n",
    "    f.close()\n",
    "    return\n",
    "\n",
    "\n",
    "def write_csv(add, arr):\n",
    "    with open(add, 'a', encoding='utf-8', newline='') as f:\n",
    "        writer = csv.writer(f)\n",
    "        writer.writerows(arr)\n",
    "    f.close()\n"
   ]
  },
  {
   "cell_type": "code",
   "execution_count": null,
   "metadata": {},
   "outputs": [],
   "source": [
    "data = read_csv()"
   ]
  }
 ],
 "metadata": {
  "kernelspec": {
   "display_name": "Python 3",
   "language": "python",
   "name": "python3"
  },
  "language_info": {
   "codemirror_mode": {
    "name": "ipython",
    "version": 3
   },
   "file_extension": ".py",
   "mimetype": "text/x-python",
   "name": "python",
   "nbconvert_exporter": "python",
   "pygments_lexer": "ipython3",
   "version": "3.7.0"
  },
  "toc": {
   "base_numbering": 1,
   "nav_menu": {},
   "number_sections": true,
   "sideBar": true,
   "skip_h1_title": false,
   "title_cell": "Table of Contents",
   "title_sidebar": "Contents",
   "toc_cell": false,
   "toc_position": {},
   "toc_section_display": true,
   "toc_window_display": false
  }
 },
 "nbformat": 4,
 "nbformat_minor": 2
}
